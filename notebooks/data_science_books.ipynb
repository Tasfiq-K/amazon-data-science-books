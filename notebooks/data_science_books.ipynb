{
  "cells": [
    {
      "cell_type": "code",
      "execution_count": null,
      "metadata": {
        "id": "XxBrBXaYfV25"
      },
      "outputs": [],
      "source": [
        "import pandas as pd\n",
        "import numpy as np"
      ]
    },
    {
      "cell_type": "code",
      "execution_count": null,
      "metadata": {
        "colab": {
          "base_uri": "https://localhost:8080/",
          "height": 441
        },
        "id": "jUnTUMv6fV28",
        "outputId": "80fb6154-a230-481a-cc21-db4a6006a558"
      },
      "outputs": [
        {
          "data": {
            "text/html": [
              "\n",
              "  <div id=\"df-5e96abfd-6ec9-41f8-9535-e063fb1c9255\">\n",
              "    <div class=\"colab-df-container\">\n",
              "      <div>\n",
              "<style scoped>\n",
              "    .dataframe tbody tr th:only-of-type {\n",
              "        vertical-align: middle;\n",
              "    }\n",
              "\n",
              "    .dataframe tbody tr th {\n",
              "        vertical-align: top;\n",
              "    }\n",
              "\n",
              "    .dataframe thead th {\n",
              "        text-align: right;\n",
              "    }\n",
              "</style>\n",
              "<table border=\"1\" class=\"dataframe\">\n",
              "  <thead>\n",
              "    <tr style=\"text-align: right;\">\n",
              "      <th></th>\n",
              "      <th>book_name</th>\n",
              "      <th>author(s)</th>\n",
              "      <th>publisher</th>\n",
              "      <th>language</th>\n",
              "      <th>#pages</th>\n",
              "      <th>best_seller_rank</th>\n",
              "      <th>customer_reviews</th>\n",
              "      <th>total_ratings</th>\n",
              "      <th>url</th>\n",
              "      <th>paperback_price($)</th>\n",
              "    </tr>\n",
              "  </thead>\n",
              "  <tbody>\n",
              "    <tr>\n",
              "      <th>0</th>\n",
              "      <td>Designing Data-Intensive Applications: The Big...</td>\n",
              "      <td>Martin Kleppmann</td>\n",
              "      <td>O'Reilly Media</td>\n",
              "      <td>NaN</td>\n",
              "      <td>611</td>\n",
              "      <td>2598</td>\n",
              "      <td>['4.8']</td>\n",
              "      <td>['3,865']</td>\n",
              "      <td>https://www.amazon.com/Designing-Data-Intensiv...</td>\n",
              "      <td>32.86</td>\n",
              "    </tr>\n",
              "    <tr>\n",
              "      <th>1</th>\n",
              "      <td>Ace the Data Science Interview: 201 Real Inter...</td>\n",
              "      <td>Kevin Huo,Nick Singh</td>\n",
              "      <td>Ace the Data Science Interview</td>\n",
              "      <td>NaN</td>\n",
              "      <td>301</td>\n",
              "      <td>6795</td>\n",
              "      <td>['4.5']</td>\n",
              "      <td>['818']</td>\n",
              "      <td>https://www.amazon.com/Ace-Data-Science-Interv...</td>\n",
              "      <td>36.35</td>\n",
              "    </tr>\n",
              "    <tr>\n",
              "      <th>2</th>\n",
              "      <td>Fundamentals of Data Engineering: Plan and Bui...</td>\n",
              "      <td>Joe Reis,Matt Housley</td>\n",
              "      <td>O'Reilly Media</td>\n",
              "      <td>NaN</td>\n",
              "      <td>446</td>\n",
              "      <td>10052</td>\n",
              "      <td>['4.7']</td>\n",
              "      <td>['251']</td>\n",
              "      <td>https://www.amazon.com/Fundamentals-Data-Engin...</td>\n",
              "      <td>43.99</td>\n",
              "    </tr>\n",
              "    <tr>\n",
              "      <th>3</th>\n",
              "      <td>Python for Data Analysis: Data Wrangling with ...</td>\n",
              "      <td>Wes McKinney</td>\n",
              "      <td>O'Reilly Media</td>\n",
              "      <td>NaN</td>\n",
              "      <td>579</td>\n",
              "      <td>11945</td>\n",
              "      <td>['4.5']</td>\n",
              "      <td>['134']</td>\n",
              "      <td>https://www.amazon.com/Python-Data-Analysis-Wr...</td>\n",
              "      <td>38.10</td>\n",
              "    </tr>\n",
              "    <tr>\n",
              "      <th>4</th>\n",
              "      <td>Practical Statistics for Data Scientists: 50+ ...</td>\n",
              "      <td>Peter Gedeck</td>\n",
              "      <td>O'Reilly Media</td>\n",
              "      <td>NaN</td>\n",
              "      <td>360</td>\n",
              "      <td>19402</td>\n",
              "      <td>['4.6']</td>\n",
              "      <td>['710']</td>\n",
              "      <td>https://www.amazon.com/Practical-Statistics-Da...</td>\n",
              "      <td>38.49</td>\n",
              "    </tr>\n",
              "  </tbody>\n",
              "</table>\n",
              "</div>\n",
              "      <button class=\"colab-df-convert\" onclick=\"convertToInteractive('df-5e96abfd-6ec9-41f8-9535-e063fb1c9255')\"\n",
              "              title=\"Convert this dataframe to an interactive table.\"\n",
              "              style=\"display:none;\">\n",
              "        \n",
              "  <svg xmlns=\"http://www.w3.org/2000/svg\" height=\"24px\"viewBox=\"0 0 24 24\"\n",
              "       width=\"24px\">\n",
              "    <path d=\"M0 0h24v24H0V0z\" fill=\"none\"/>\n",
              "    <path d=\"M18.56 5.44l.94 2.06.94-2.06 2.06-.94-2.06-.94-.94-2.06-.94 2.06-2.06.94zm-11 1L8.5 8.5l.94-2.06 2.06-.94-2.06-.94L8.5 2.5l-.94 2.06-2.06.94zm10 10l.94 2.06.94-2.06 2.06-.94-2.06-.94-.94-2.06-.94 2.06-2.06.94z\"/><path d=\"M17.41 7.96l-1.37-1.37c-.4-.4-.92-.59-1.43-.59-.52 0-1.04.2-1.43.59L10.3 9.45l-7.72 7.72c-.78.78-.78 2.05 0 2.83L4 21.41c.39.39.9.59 1.41.59.51 0 1.02-.2 1.41-.59l7.78-7.78 2.81-2.81c.8-.78.8-2.07 0-2.86zM5.41 20L4 18.59l7.72-7.72 1.47 1.35L5.41 20z\"/>\n",
              "  </svg>\n",
              "      </button>\n",
              "      \n",
              "  <style>\n",
              "    .colab-df-container {\n",
              "      display:flex;\n",
              "      flex-wrap:wrap;\n",
              "      gap: 12px;\n",
              "    }\n",
              "\n",
              "    .colab-df-convert {\n",
              "      background-color: #E8F0FE;\n",
              "      border: none;\n",
              "      border-radius: 50%;\n",
              "      cursor: pointer;\n",
              "      display: none;\n",
              "      fill: #1967D2;\n",
              "      height: 32px;\n",
              "      padding: 0 0 0 0;\n",
              "      width: 32px;\n",
              "    }\n",
              "\n",
              "    .colab-df-convert:hover {\n",
              "      background-color: #E2EBFA;\n",
              "      box-shadow: 0px 1px 2px rgba(60, 64, 67, 0.3), 0px 1px 3px 1px rgba(60, 64, 67, 0.15);\n",
              "      fill: #174EA6;\n",
              "    }\n",
              "\n",
              "    [theme=dark] .colab-df-convert {\n",
              "      background-color: #3B4455;\n",
              "      fill: #D2E3FC;\n",
              "    }\n",
              "\n",
              "    [theme=dark] .colab-df-convert:hover {\n",
              "      background-color: #434B5C;\n",
              "      box-shadow: 0px 1px 3px 1px rgba(0, 0, 0, 0.15);\n",
              "      filter: drop-shadow(0px 1px 2px rgba(0, 0, 0, 0.3));\n",
              "      fill: #FFFFFF;\n",
              "    }\n",
              "  </style>\n",
              "\n",
              "      <script>\n",
              "        const buttonEl =\n",
              "          document.querySelector('#df-5e96abfd-6ec9-41f8-9535-e063fb1c9255 button.colab-df-convert');\n",
              "        buttonEl.style.display =\n",
              "          google.colab.kernel.accessAllowed ? 'block' : 'none';\n",
              "\n",
              "        async function convertToInteractive(key) {\n",
              "          const element = document.querySelector('#df-5e96abfd-6ec9-41f8-9535-e063fb1c9255');\n",
              "          const dataTable =\n",
              "            await google.colab.kernel.invokeFunction('convertToInteractive',\n",
              "                                                     [key], {});\n",
              "          if (!dataTable) return;\n",
              "\n",
              "          const docLinkHtml = 'Like what you see? Visit the ' +\n",
              "            '<a target=\"_blank\" href=https://colab.research.google.com/notebooks/data_table.ipynb>data table notebook</a>'\n",
              "            + ' to learn more about interactive tables.';\n",
              "          element.innerHTML = '';\n",
              "          dataTable['output_type'] = 'display_data';\n",
              "          await google.colab.output.renderOutput(dataTable, element);\n",
              "          const docLink = document.createElement('div');\n",
              "          docLink.innerHTML = docLinkHtml;\n",
              "          element.appendChild(docLink);\n",
              "        }\n",
              "      </script>\n",
              "    </div>\n",
              "  </div>\n",
              "  "
            ],
            "text/plain": [
              "                                           book_name              author(s)  \\\n",
              "0  Designing Data-Intensive Applications: The Big...       Martin Kleppmann   \n",
              "1  Ace the Data Science Interview: 201 Real Inter...   Kevin Huo,Nick Singh   \n",
              "2  Fundamentals of Data Engineering: Plan and Bui...  Joe Reis,Matt Housley   \n",
              "3  Python for Data Analysis: Data Wrangling with ...           Wes McKinney   \n",
              "4  Practical Statistics for Data Scientists: 50+ ...           Peter Gedeck   \n",
              "\n",
              "                        publisher  language #pages best_seller_rank  \\\n",
              "0                  O'Reilly Media       NaN    611             2598   \n",
              "1  Ace the Data Science Interview       NaN    301             6795   \n",
              "2                  O'Reilly Media       NaN    446            10052   \n",
              "3                  O'Reilly Media       NaN    579            11945   \n",
              "4                  O'Reilly Media       NaN    360            19402   \n",
              "\n",
              "  customer_reviews total_ratings  \\\n",
              "0          ['4.8']     ['3,865']   \n",
              "1          ['4.5']       ['818']   \n",
              "2          ['4.7']       ['251']   \n",
              "3          ['4.5']       ['134']   \n",
              "4          ['4.6']       ['710']   \n",
              "\n",
              "                                                 url paperback_price($)  \n",
              "0  https://www.amazon.com/Designing-Data-Intensiv...              32.86  \n",
              "1  https://www.amazon.com/Ace-Data-Science-Interv...              36.35  \n",
              "2  https://www.amazon.com/Fundamentals-Data-Engin...              43.99  \n",
              "3  https://www.amazon.com/Python-Data-Analysis-Wr...              38.10  \n",
              "4  https://www.amazon.com/Practical-Statistics-Da...              38.49  "
            ]
          },
          "execution_count": 50,
          "metadata": {},
          "output_type": "execute_result"
        }
      ],
      "source": [
        "data = pd.read_csv('amazon_data_science_books.csv')\n",
        "data.head()"
      ]
    },
    {
      "cell_type": "code",
      "execution_count": null,
      "metadata": {
        "colab": {
          "base_uri": "https://localhost:8080/"
        },
        "id": "2TpeGpjmfV29",
        "outputId": "6b4d64e6-c842-4584-9fd5-cc33c174f596"
      },
      "outputs": [
        {
          "data": {
            "text/plain": [
              "(1350, 10)"
            ]
          },
          "execution_count": 51,
          "metadata": {},
          "output_type": "execute_result"
        }
      ],
      "source": [
        "data.shape"
      ]
    },
    {
      "cell_type": "code",
      "execution_count": null,
      "metadata": {
        "colab": {
          "base_uri": "https://localhost:8080/"
        },
        "id": "0pYjHpvnfV2-",
        "outputId": "e911890c-226f-4d84-9b38-1a82ae3dda6a"
      },
      "outputs": [
        {
          "name": "stdout",
          "output_type": "stream",
          "text": [
            "<class 'pandas.core.frame.DataFrame'>\n",
            "RangeIndex: 1350 entries, 0 to 1349\n",
            "Data columns (total 10 columns):\n",
            " #   Column              Non-Null Count  Dtype  \n",
            "---  ------              --------------  -----  \n",
            " 0   book_name           1350 non-null   object \n",
            " 1   author(s)           1324 non-null   object \n",
            " 2   publisher           1350 non-null   object \n",
            " 3   language            0 non-null      float64\n",
            " 4   #pages              1350 non-null   object \n",
            " 5   best_seller_rank    1350 non-null   object \n",
            " 6   customer_reviews    1350 non-null   object \n",
            " 7   total_ratings       1350 non-null   object \n",
            " 8   url                 1350 non-null   object \n",
            " 9   paperback_price($)  1350 non-null   object \n",
            "dtypes: float64(1), object(9)\n",
            "memory usage: 105.6+ KB\n"
          ]
        }
      ],
      "source": [
        "data.info()"
      ]
    },
    {
      "cell_type": "markdown",
      "metadata": {
        "id": "JOJvrXUXgAw0"
      },
      "source": [
        "# Preprocessig"
      ]
    },
    {
      "cell_type": "code",
      "execution_count": null,
      "metadata": {
        "colab": {
          "base_uri": "https://localhost:8080/"
        },
        "id": "RxiWej1kfV2-",
        "outputId": "bc738b1e-c9c3-4c88-beed-7f9701e5c797"
      },
      "outputs": [
        {
          "name": "stderr",
          "output_type": "stream",
          "text": [
            "<ipython-input-53-c132c85298d0>:4: FutureWarning: The default value of regex will change from True to False in a future version. In addition, single character regular expressions will *not* be treated as literal strings when regex=True.\n",
            "  data['customer_reviews'] = data['customer_reviews'].str.replace('[', \"\").str.replace(\"'\", \"\").str.replace(\"]\", \"\").astype(float)\n",
            "<ipython-input-53-c132c85298d0>:5: FutureWarning: The default value of regex will change from True to False in a future version. In addition, single character regular expressions will *not* be treated as literal strings when regex=True.\n",
            "  data['total_ratings'] = data['total_ratings'].str.replace('[', \"\").str.replace(\"'\", \"\").str.replace(\",\", \"\").str.replace(\"]\", \"\").astype(int)\n"
          ]
        }
      ],
      "source": [
        "# for i in range(data.shape[0]):\n",
        "#     data.loc[i, 'customer_reviews'] = data[i, 'customer_reviews'].replace(\"['\", '')\n",
        "\n",
        "data['customer_reviews'] = data['customer_reviews'].str.replace('[', \"\").str.replace(\"'\", \"\").str.replace(\"]\", \"\").astype(float)\n",
        "data['total_ratings'] = data['total_ratings'].str.replace('[', \"\").str.replace(\"'\", \"\").str.replace(\",\", \"\").str.replace(\"]\", \"\").astype(int)\n"
      ]
    },
    {
      "cell_type": "code",
      "execution_count": null,
      "metadata": {
        "colab": {
          "base_uri": "https://localhost:8080/",
          "height": 423
        },
        "id": "YFQJVdJRfV2_",
        "outputId": "0e2ffdd4-caaf-42ec-9817-c1ecf9590dbd"
      },
      "outputs": [
        {
          "data": {
            "text/html": [
              "\n",
              "  <div id=\"df-1ec1553e-ba44-49d6-9056-2981fb64b3e3\">\n",
              "    <div class=\"colab-df-container\">\n",
              "      <div>\n",
              "<style scoped>\n",
              "    .dataframe tbody tr th:only-of-type {\n",
              "        vertical-align: middle;\n",
              "    }\n",
              "\n",
              "    .dataframe tbody tr th {\n",
              "        vertical-align: top;\n",
              "    }\n",
              "\n",
              "    .dataframe thead th {\n",
              "        text-align: right;\n",
              "    }\n",
              "</style>\n",
              "<table border=\"1\" class=\"dataframe\">\n",
              "  <thead>\n",
              "    <tr style=\"text-align: right;\">\n",
              "      <th></th>\n",
              "      <th>customer_reviews</th>\n",
              "      <th>total_ratings</th>\n",
              "    </tr>\n",
              "  </thead>\n",
              "  <tbody>\n",
              "    <tr>\n",
              "      <th>0</th>\n",
              "      <td>4.8</td>\n",
              "      <td>3865</td>\n",
              "    </tr>\n",
              "    <tr>\n",
              "      <th>1</th>\n",
              "      <td>4.5</td>\n",
              "      <td>818</td>\n",
              "    </tr>\n",
              "    <tr>\n",
              "      <th>2</th>\n",
              "      <td>4.7</td>\n",
              "      <td>251</td>\n",
              "    </tr>\n",
              "    <tr>\n",
              "      <th>3</th>\n",
              "      <td>4.5</td>\n",
              "      <td>134</td>\n",
              "    </tr>\n",
              "    <tr>\n",
              "      <th>4</th>\n",
              "      <td>4.6</td>\n",
              "      <td>710</td>\n",
              "    </tr>\n",
              "    <tr>\n",
              "      <th>...</th>\n",
              "      <td>...</td>\n",
              "      <td>...</td>\n",
              "    </tr>\n",
              "    <tr>\n",
              "      <th>1345</th>\n",
              "      <td>5.0</td>\n",
              "      <td>0</td>\n",
              "    </tr>\n",
              "    <tr>\n",
              "      <th>1346</th>\n",
              "      <td>3.7</td>\n",
              "      <td>22</td>\n",
              "    </tr>\n",
              "    <tr>\n",
              "      <th>1347</th>\n",
              "      <td>4.6</td>\n",
              "      <td>36</td>\n",
              "    </tr>\n",
              "    <tr>\n",
              "      <th>1348</th>\n",
              "      <td>4.0</td>\n",
              "      <td>13</td>\n",
              "    </tr>\n",
              "    <tr>\n",
              "      <th>1349</th>\n",
              "      <td>4.0</td>\n",
              "      <td>229</td>\n",
              "    </tr>\n",
              "  </tbody>\n",
              "</table>\n",
              "<p>1350 rows × 2 columns</p>\n",
              "</div>\n",
              "      <button class=\"colab-df-convert\" onclick=\"convertToInteractive('df-1ec1553e-ba44-49d6-9056-2981fb64b3e3')\"\n",
              "              title=\"Convert this dataframe to an interactive table.\"\n",
              "              style=\"display:none;\">\n",
              "        \n",
              "  <svg xmlns=\"http://www.w3.org/2000/svg\" height=\"24px\"viewBox=\"0 0 24 24\"\n",
              "       width=\"24px\">\n",
              "    <path d=\"M0 0h24v24H0V0z\" fill=\"none\"/>\n",
              "    <path d=\"M18.56 5.44l.94 2.06.94-2.06 2.06-.94-2.06-.94-.94-2.06-.94 2.06-2.06.94zm-11 1L8.5 8.5l.94-2.06 2.06-.94-2.06-.94L8.5 2.5l-.94 2.06-2.06.94zm10 10l.94 2.06.94-2.06 2.06-.94-2.06-.94-.94-2.06-.94 2.06-2.06.94z\"/><path d=\"M17.41 7.96l-1.37-1.37c-.4-.4-.92-.59-1.43-.59-.52 0-1.04.2-1.43.59L10.3 9.45l-7.72 7.72c-.78.78-.78 2.05 0 2.83L4 21.41c.39.39.9.59 1.41.59.51 0 1.02-.2 1.41-.59l7.78-7.78 2.81-2.81c.8-.78.8-2.07 0-2.86zM5.41 20L4 18.59l7.72-7.72 1.47 1.35L5.41 20z\"/>\n",
              "  </svg>\n",
              "      </button>\n",
              "      \n",
              "  <style>\n",
              "    .colab-df-container {\n",
              "      display:flex;\n",
              "      flex-wrap:wrap;\n",
              "      gap: 12px;\n",
              "    }\n",
              "\n",
              "    .colab-df-convert {\n",
              "      background-color: #E8F0FE;\n",
              "      border: none;\n",
              "      border-radius: 50%;\n",
              "      cursor: pointer;\n",
              "      display: none;\n",
              "      fill: #1967D2;\n",
              "      height: 32px;\n",
              "      padding: 0 0 0 0;\n",
              "      width: 32px;\n",
              "    }\n",
              "\n",
              "    .colab-df-convert:hover {\n",
              "      background-color: #E2EBFA;\n",
              "      box-shadow: 0px 1px 2px rgba(60, 64, 67, 0.3), 0px 1px 3px 1px rgba(60, 64, 67, 0.15);\n",
              "      fill: #174EA6;\n",
              "    }\n",
              "\n",
              "    [theme=dark] .colab-df-convert {\n",
              "      background-color: #3B4455;\n",
              "      fill: #D2E3FC;\n",
              "    }\n",
              "\n",
              "    [theme=dark] .colab-df-convert:hover {\n",
              "      background-color: #434B5C;\n",
              "      box-shadow: 0px 1px 3px 1px rgba(0, 0, 0, 0.15);\n",
              "      filter: drop-shadow(0px 1px 2px rgba(0, 0, 0, 0.3));\n",
              "      fill: #FFFFFF;\n",
              "    }\n",
              "  </style>\n",
              "\n",
              "      <script>\n",
              "        const buttonEl =\n",
              "          document.querySelector('#df-1ec1553e-ba44-49d6-9056-2981fb64b3e3 button.colab-df-convert');\n",
              "        buttonEl.style.display =\n",
              "          google.colab.kernel.accessAllowed ? 'block' : 'none';\n",
              "\n",
              "        async function convertToInteractive(key) {\n",
              "          const element = document.querySelector('#df-1ec1553e-ba44-49d6-9056-2981fb64b3e3');\n",
              "          const dataTable =\n",
              "            await google.colab.kernel.invokeFunction('convertToInteractive',\n",
              "                                                     [key], {});\n",
              "          if (!dataTable) return;\n",
              "\n",
              "          const docLinkHtml = 'Like what you see? Visit the ' +\n",
              "            '<a target=\"_blank\" href=https://colab.research.google.com/notebooks/data_table.ipynb>data table notebook</a>'\n",
              "            + ' to learn more about interactive tables.';\n",
              "          element.innerHTML = '';\n",
              "          dataTable['output_type'] = 'display_data';\n",
              "          await google.colab.output.renderOutput(dataTable, element);\n",
              "          const docLink = document.createElement('div');\n",
              "          docLink.innerHTML = docLinkHtml;\n",
              "          element.appendChild(docLink);\n",
              "        }\n",
              "      </script>\n",
              "    </div>\n",
              "  </div>\n",
              "  "
            ],
            "text/plain": [
              "      customer_reviews  total_ratings\n",
              "0                  4.8           3865\n",
              "1                  4.5            818\n",
              "2                  4.7            251\n",
              "3                  4.5            134\n",
              "4                  4.6            710\n",
              "...                ...            ...\n",
              "1345               5.0              0\n",
              "1346               3.7             22\n",
              "1347               4.6             36\n",
              "1348               4.0             13\n",
              "1349               4.0            229\n",
              "\n",
              "[1350 rows x 2 columns]"
            ]
          },
          "execution_count": 54,
          "metadata": {},
          "output_type": "execute_result"
        }
      ],
      "source": [
        "data[['customer_reviews', 'total_ratings']]"
      ]
    },
    {
      "cell_type": "code",
      "execution_count": null,
      "metadata": {
        "colab": {
          "base_uri": "https://localhost:8080/"
        },
        "id": "ORwD8eBafV2_",
        "outputId": "fb5c28ed-fb94-4bd1-86f3-7f4166d48742"
      },
      "outputs": [
        {
          "data": {
            "text/plain": [
              "array(['32.86', '36.35', '43.99', '38.10', '38.49', '30.82', '35.68',\n",
              "       '52.24', '26.06', '24.49', '38.26', '40.49', '13.69', '33.24',\n",
              "       '33.20', '17.29', '52.18', '53.99', '11.07', '9.69', '43.25',\n",
              "       '51.99', '58.38', '57.99', '56.99', '14.80', '19.49', '48.52',\n",
              "       '43.12', '25.49', '78.38', '23.45', '46.99', '59.99', '37.99',\n",
              "       '58.99', '16.90', '49.49', '26.62', '24.99', '29.95', '69.99',\n",
              "       '85.32', '23.99', '12.69', '42.99', '29.72', '35.99', '49.99',\n",
              "       '42.00', '39.49', '41.99', '59.50', '39.89', '44.99', '39.99',\n",
              "       '54.95', '42.49', '39.95', '31.49', '49.39', '25.85', '17.42',\n",
              "       '29.30', '40.99', '29.99', '69.94', '48.99', '23.58', '47.99',\n",
              "       '22.72', '23.04', '11.99', '35.69', '40.86', '28.34', '47.49',\n",
              "       '38.99', '36.99', '49.00', '58.75', '67.15', '19.89', '39.33',\n",
              "       '9.99', '289.95', '79.99', '40.75', '36.49', '35.49', '52.99',\n",
              "       '9.39', '32.49', '33.79', '50.35', '64.95', '20.69', '41.49',\n",
              "       '31.99', '44.49', '72.00', '38.93', '18.89', '16.99', '48.45',\n",
              "       '34.99', '4.99', '36.67', '14.99', '38.40', '34.51', '32.99',\n",
              "       '34.67', '52.00', '53.00', '33.76', '36.69', '45.99', '40.00',\n",
              "       '7.99', '41.05', '45.38', '41.83', '32.23', '30.00', '67.99',\n",
              "       '50.00', '28.13', '54.99', '82.63', '55.99', '38.94', '49.37',\n",
              "       '31.95', '55.00', '58.84', '27.99', '74.95', '11.95', '25.99',\n",
              "       '30.99', '61.34', '51.60', '48.75', '37.59', '84.35', '49.85',\n",
              "       '40.71', '24.90', '69.95', '15.95', '35.00', '52.13', '54.80',\n",
              "       '39.86', '3806.19', '22.19', '49.94', '66.15', '59.95', '69.58',\n",
              "       '12.80', '37.21', '36.81', '48.49', '19.99', '28.15', '28.98',\n",
              "       '12.49', '46.05', '14.95', '32.76', '82.00', '54.75', '31.11',\n",
              "       '35.17', '11.63', '30.58', '21.99', '28.80', '31.64', '37.50',\n",
              "       '30.91', '2.80', '49.95', '54.67', '28.99', '48.89', '47.60',\n",
              "       '38.33', '159.99', '46.50', '210.49', '14.98', '32.14', '94.95',\n",
              "       '39.00', '30.64', '28.61', '62.20', '53.32', '19.98', '76.57',\n",
              "       '10.00', '75.95', '52.66', '39.13', '51.55', '11.97', '48.84',\n",
              "       '69.61', '19.29', '25.00', '54.20', '21.50', '58.45', '101.32',\n",
              "       '60.72', '54.08', '55.10', '107.49', '30.71', '37.40', '89.99',\n",
              "       '29.98', '54.72', '59.00', '31.50', '22.99', '20.46', '34.63',\n",
              "       '23.67', '13.31', '64.99', '39.93', '38.24', '41.09', '26.86',\n",
              "       '38.95', '111.15', '42.16', '48.13', '12.95', '27.12', '34.00',\n",
              "       '89.83', '40.58', '51.00', '68.95', '49.05', '34.98', '22.95',\n",
              "       '39.94', '20.00', '41.53', '7.65', '66.44', '24.04', '32.00',\n",
              "       '55.49', '6.99', '61.24', '62.99', '22.60', '79.95', '38.06',\n",
              "       '78.86', '34.49', '42.85', '57.75', '15.66', '19.48', '225.00',\n",
              "       '60.99', '24.36', '26.99', '33.77', '65.17', '42.36', '17.95',\n",
              "       '56.81', '24.50', '23.59', '16.97', '12.99', '33.29', '38.82',\n",
              "       '91.49', '37.56', '26.39', '62.72', '17.99', '50.39', '41.46',\n",
              "       '62.69', '15.89', '219.99', '43.96', '3.66', '56.95', '56.59',\n",
              "       '18.99', '118.95', '19.95', '24.68', '40.39', '31.59', '58.14',\n",
              "       '8.40', '61.08', '63.95', '17.38', '22.83', '37.35', '11.79',\n",
              "       '29.80', '28.95', '65.81', '43.76', '27.57', '14.77', '24.95',\n",
              "       '36.84', '53.13', '62.80', '43.00', '18.95', '23.95', '9.55',\n",
              "       '20.96', '15.00', '35.95', '51.02', '13.65', '19.08', '40.98',\n",
              "       '85.72', '34.25', '47.43', '165.00', '42.91', '62.26', '15.99',\n",
              "       '46.36', '50.34', '14.36', '125.00', '23.94', '88.00', '118.80',\n",
              "       '18.10', '21.97', '67.00', '47.04', '104.99', '44.95', '13.99',\n",
              "       '9.54', '109.99', '52.95', '26.80', '59.83', '17.49', '41.55',\n",
              "       '52.05', '51.45', '95.00', '32.16', '10.68', '37.48', '37.94',\n",
              "       '41.98', '70.64', '52.49', '5.99', '8.66', '70.00', '39.66',\n",
              "       '55.01', '186.02', '41.40', '16.38', '14.67', '44.59', '33.69',\n",
              "       '34.95', '34.56', '30.39', '60.49', '33.45', '30.84', '19.96',\n",
              "       '33.16', '34.97', '51.89', '45.77', '26.47', '34.21', '45.46',\n",
              "       '69.47', '51.69', '17.13', '37.54', '50.53', '17.44', '19.71',\n",
              "       '34.10', '41.60', '100.63', '10.40', '27.86', '13.16', '83.49',\n",
              "       '48.16', '29.71', '200.00', '20.97', '13.12', '36.00', '7.50',\n",
              "       '55.85', '19.81', '99.89', '97.65', '12.38', '25.10', '13.00',\n",
              "       '22.54', '23.62', '61.18', '24.53', '29.90', '25.44', '60.00',\n",
              "       '41.00', '19.58', '15.98', '42.89', '166.07', '39.19', '34.15',\n",
              "       '39.35', '32.95', '179.99', '16.68', '38.30', '99.00', '35.07',\n",
              "       '57.16', '1.71', '63.93', '67.80', '62.40', '38.14', '36.98',\n",
              "       '78.35', '33.31', '20.99', '13.45', '110.49', '71.95', '120.99',\n",
              "       '51.97', '9.47', '27.95', '65.99', '43.90', '14.76', '41.12',\n",
              "       '14.50', '36.01', '67.95', '150.00', '58.82', '35.19', '20.15',\n",
              "       '30.97', '120.03', '145.00', '12.01', '31.20', '34.33', '30.47',\n",
              "       '10.20', '37.01', '90.99', '10.54', '85.95', '99.95', '132.49',\n",
              "       '37.45', '10.99', '—', '49.45', '13.34', '23.16', '16.77', '31.00',\n",
              "       '4.98', '125.95', '17.80', '61.89', '24.74', '57.11', '9.98',\n",
              "       '45.00', '25.95'], dtype=object)"
            ]
          },
          "execution_count": 55,
          "metadata": {},
          "output_type": "execute_result"
        }
      ],
      "source": [
        "data['paperback_price($)'].unique()"
      ]
    },
    {
      "cell_type": "code",
      "execution_count": null,
      "metadata": {
        "id": "RUz3y7RLfV3A"
      },
      "outputs": [],
      "source": [
        "data.loc[ data.loc[:, 'paperback_price($)'] == '—', 'paperback_price($)'] = '0.0'"
      ]
    },
    {
      "cell_type": "code",
      "execution_count": null,
      "metadata": {
        "colab": {
          "base_uri": "https://localhost:8080/"
        },
        "id": "haSICtqHfV3B",
        "outputId": "7850b7de-7963-43ea-c62f-f936dac8ad93"
      },
      "outputs": [
        {
          "name": "stderr",
          "output_type": "stream",
          "text": [
            "<ipython-input-57-344a48395614>:1: DeprecationWarning: In a future version, `df.iloc[:, i] = newvals` will attempt to set the values inplace instead of always setting a new array. To retain the old behavior, use either `df[df.columns[i]] = newvals` or, if columns are non-unique, `df.isetitem(i, newvals)`\n",
            "  data.loc[:, 'paperback_price($)'] = data.loc[:, 'paperback_price($)'].astype(float)\n"
          ]
        }
      ],
      "source": [
        "data.loc[:, 'paperback_price($)'] = data.loc[:, 'paperback_price($)'].astype(float)"
      ]
    },
    {
      "cell_type": "code",
      "execution_count": null,
      "metadata": {
        "colab": {
          "base_uri": "https://localhost:8080/"
        },
        "id": "JsFQ2i_vfV3B",
        "outputId": "8b04b2d1-9bb7-4e0c-dfaa-7b3c7152e4ca"
      },
      "outputs": [
        {
          "name": "stdout",
          "output_type": "stream",
          "text": [
            "<class 'pandas.core.frame.DataFrame'>\n",
            "RangeIndex: 1350 entries, 0 to 1349\n",
            "Data columns (total 10 columns):\n",
            " #   Column              Non-Null Count  Dtype  \n",
            "---  ------              --------------  -----  \n",
            " 0   book_name           1350 non-null   object \n",
            " 1   author(s)           1324 non-null   object \n",
            " 2   publisher           1350 non-null   object \n",
            " 3   language            0 non-null      float64\n",
            " 4   #pages              1350 non-null   object \n",
            " 5   best_seller_rank    1350 non-null   object \n",
            " 6   customer_reviews    1350 non-null   float64\n",
            " 7   total_ratings       1350 non-null   int64  \n",
            " 8   url                 1350 non-null   object \n",
            " 9   paperback_price($)  1350 non-null   float64\n",
            "dtypes: float64(3), int64(1), object(6)\n",
            "memory usage: 105.6+ KB\n"
          ]
        }
      ],
      "source": [
        "data.info()"
      ]
    },
    {
      "cell_type": "code",
      "execution_count": null,
      "metadata": {
        "id": "ku_E48CNfV3C"
      },
      "outputs": [],
      "source": [
        "data.loc[data.loc[:, 'best_seller_rank'] == 'Null', 'best_seller_rank'] = '0'\n",
        "data.loc[data.loc[:, '#pages'] == 'Null', '#pages'] = '0'"
      ]
    },
    {
      "cell_type": "code",
      "execution_count": null,
      "metadata": {
        "colab": {
          "base_uri": "https://localhost:8080/"
        },
        "id": "JHWdaV1gfV3C",
        "outputId": "186bef8c-7cdd-45fb-acd8-f3a09f0bdd35"
      },
      "outputs": [
        {
          "name": "stderr",
          "output_type": "stream",
          "text": [
            "<ipython-input-60-f8e2fc78ac6c>:1: DeprecationWarning: In a future version, `df.iloc[:, i] = newvals` will attempt to set the values inplace instead of always setting a new array. To retain the old behavior, use either `df[df.columns[i]] = newvals` or, if columns are non-unique, `df.isetitem(i, newvals)`\n",
            "  data.loc[:, ['#pages', 'best_seller_rank']] = data.loc[:, ['#pages', 'best_seller_rank']].astype(int)\n"
          ]
        }
      ],
      "source": [
        "data.loc[:, ['#pages', 'best_seller_rank']] = data.loc[:, ['#pages', 'best_seller_rank']].astype(int)"
      ]
    },
    {
      "cell_type": "code",
      "execution_count": null,
      "metadata": {
        "colab": {
          "base_uri": "https://localhost:8080/"
        },
        "id": "V68xEyW0fV3C",
        "outputId": "fef54ae3-167e-4a45-8e6e-2e2baea96889"
      },
      "outputs": [
        {
          "name": "stdout",
          "output_type": "stream",
          "text": [
            "<class 'pandas.core.frame.DataFrame'>\n",
            "RangeIndex: 1350 entries, 0 to 1349\n",
            "Data columns (total 10 columns):\n",
            " #   Column              Non-Null Count  Dtype  \n",
            "---  ------              --------------  -----  \n",
            " 0   book_name           1350 non-null   object \n",
            " 1   author(s)           1324 non-null   object \n",
            " 2   publisher           1350 non-null   object \n",
            " 3   language            0 non-null      float64\n",
            " 4   #pages              1350 non-null   int64  \n",
            " 5   best_seller_rank    1350 non-null   int64  \n",
            " 6   customer_reviews    1350 non-null   float64\n",
            " 7   total_ratings       1350 non-null   int64  \n",
            " 8   url                 1350 non-null   object \n",
            " 9   paperback_price($)  1350 non-null   float64\n",
            "dtypes: float64(3), int64(3), object(4)\n",
            "memory usage: 105.6+ KB\n"
          ]
        }
      ],
      "source": [
        "data.info()"
      ]
    },
    {
      "cell_type": "code",
      "execution_count": null,
      "metadata": {
        "id": "Xp19rWB9fV3C"
      },
      "outputs": [],
      "source": [
        "data.drop('language', axis=1, inplace=True)"
      ]
    },
    {
      "cell_type": "code",
      "execution_count": null,
      "metadata": {
        "colab": {
          "base_uri": "https://localhost:8080/",
          "height": 371
        },
        "id": "LsqdmZbyfV3C",
        "outputId": "7153b4e8-a2a3-49c3-e434-88a2afd150ec"
      },
      "outputs": [
        {
          "data": {
            "text/html": [
              "\n",
              "  <div id=\"df-c13c8965-5aca-463f-a94f-bf7a082cd6cb\">\n",
              "    <div class=\"colab-df-container\">\n",
              "      <div>\n",
              "<style scoped>\n",
              "    .dataframe tbody tr th:only-of-type {\n",
              "        vertical-align: middle;\n",
              "    }\n",
              "\n",
              "    .dataframe tbody tr th {\n",
              "        vertical-align: top;\n",
              "    }\n",
              "\n",
              "    .dataframe thead th {\n",
              "        text-align: right;\n",
              "    }\n",
              "</style>\n",
              "<table border=\"1\" class=\"dataframe\">\n",
              "  <thead>\n",
              "    <tr style=\"text-align: right;\">\n",
              "      <th></th>\n",
              "      <th>book_name</th>\n",
              "      <th>author(s)</th>\n",
              "      <th>publisher</th>\n",
              "      <th>#pages</th>\n",
              "      <th>best_seller_rank</th>\n",
              "      <th>customer_reviews</th>\n",
              "      <th>total_ratings</th>\n",
              "      <th>url</th>\n",
              "      <th>paperback_price($)</th>\n",
              "    </tr>\n",
              "  </thead>\n",
              "  <tbody>\n",
              "    <tr>\n",
              "      <th>0</th>\n",
              "      <td>Designing Data-Intensive Applications: The Big...</td>\n",
              "      <td>Martin Kleppmann</td>\n",
              "      <td>O'Reilly Media</td>\n",
              "      <td>611</td>\n",
              "      <td>2598</td>\n",
              "      <td>4.8</td>\n",
              "      <td>3865</td>\n",
              "      <td>https://www.amazon.com/Designing-Data-Intensiv...</td>\n",
              "      <td>32.86</td>\n",
              "    </tr>\n",
              "    <tr>\n",
              "      <th>1</th>\n",
              "      <td>Ace the Data Science Interview: 201 Real Inter...</td>\n",
              "      <td>Kevin Huo,Nick Singh</td>\n",
              "      <td>Ace the Data Science Interview</td>\n",
              "      <td>301</td>\n",
              "      <td>6795</td>\n",
              "      <td>4.5</td>\n",
              "      <td>818</td>\n",
              "      <td>https://www.amazon.com/Ace-Data-Science-Interv...</td>\n",
              "      <td>36.35</td>\n",
              "    </tr>\n",
              "    <tr>\n",
              "      <th>2</th>\n",
              "      <td>Fundamentals of Data Engineering: Plan and Bui...</td>\n",
              "      <td>Joe Reis,Matt Housley</td>\n",
              "      <td>O'Reilly Media</td>\n",
              "      <td>446</td>\n",
              "      <td>10052</td>\n",
              "      <td>4.7</td>\n",
              "      <td>251</td>\n",
              "      <td>https://www.amazon.com/Fundamentals-Data-Engin...</td>\n",
              "      <td>43.99</td>\n",
              "    </tr>\n",
              "    <tr>\n",
              "      <th>3</th>\n",
              "      <td>Python for Data Analysis: Data Wrangling with ...</td>\n",
              "      <td>Wes McKinney</td>\n",
              "      <td>O'Reilly Media</td>\n",
              "      <td>579</td>\n",
              "      <td>11945</td>\n",
              "      <td>4.5</td>\n",
              "      <td>134</td>\n",
              "      <td>https://www.amazon.com/Python-Data-Analysis-Wr...</td>\n",
              "      <td>38.10</td>\n",
              "    </tr>\n",
              "    <tr>\n",
              "      <th>4</th>\n",
              "      <td>Practical Statistics for Data Scientists: 50+ ...</td>\n",
              "      <td>Peter Gedeck</td>\n",
              "      <td>O'Reilly Media</td>\n",
              "      <td>360</td>\n",
              "      <td>19402</td>\n",
              "      <td>4.6</td>\n",
              "      <td>710</td>\n",
              "      <td>https://www.amazon.com/Practical-Statistics-Da...</td>\n",
              "      <td>38.49</td>\n",
              "    </tr>\n",
              "  </tbody>\n",
              "</table>\n",
              "</div>\n",
              "      <button class=\"colab-df-convert\" onclick=\"convertToInteractive('df-c13c8965-5aca-463f-a94f-bf7a082cd6cb')\"\n",
              "              title=\"Convert this dataframe to an interactive table.\"\n",
              "              style=\"display:none;\">\n",
              "        \n",
              "  <svg xmlns=\"http://www.w3.org/2000/svg\" height=\"24px\"viewBox=\"0 0 24 24\"\n",
              "       width=\"24px\">\n",
              "    <path d=\"M0 0h24v24H0V0z\" fill=\"none\"/>\n",
              "    <path d=\"M18.56 5.44l.94 2.06.94-2.06 2.06-.94-2.06-.94-.94-2.06-.94 2.06-2.06.94zm-11 1L8.5 8.5l.94-2.06 2.06-.94-2.06-.94L8.5 2.5l-.94 2.06-2.06.94zm10 10l.94 2.06.94-2.06 2.06-.94-2.06-.94-.94-2.06-.94 2.06-2.06.94z\"/><path d=\"M17.41 7.96l-1.37-1.37c-.4-.4-.92-.59-1.43-.59-.52 0-1.04.2-1.43.59L10.3 9.45l-7.72 7.72c-.78.78-.78 2.05 0 2.83L4 21.41c.39.39.9.59 1.41.59.51 0 1.02-.2 1.41-.59l7.78-7.78 2.81-2.81c.8-.78.8-2.07 0-2.86zM5.41 20L4 18.59l7.72-7.72 1.47 1.35L5.41 20z\"/>\n",
              "  </svg>\n",
              "      </button>\n",
              "      \n",
              "  <style>\n",
              "    .colab-df-container {\n",
              "      display:flex;\n",
              "      flex-wrap:wrap;\n",
              "      gap: 12px;\n",
              "    }\n",
              "\n",
              "    .colab-df-convert {\n",
              "      background-color: #E8F0FE;\n",
              "      border: none;\n",
              "      border-radius: 50%;\n",
              "      cursor: pointer;\n",
              "      display: none;\n",
              "      fill: #1967D2;\n",
              "      height: 32px;\n",
              "      padding: 0 0 0 0;\n",
              "      width: 32px;\n",
              "    }\n",
              "\n",
              "    .colab-df-convert:hover {\n",
              "      background-color: #E2EBFA;\n",
              "      box-shadow: 0px 1px 2px rgba(60, 64, 67, 0.3), 0px 1px 3px 1px rgba(60, 64, 67, 0.15);\n",
              "      fill: #174EA6;\n",
              "    }\n",
              "\n",
              "    [theme=dark] .colab-df-convert {\n",
              "      background-color: #3B4455;\n",
              "      fill: #D2E3FC;\n",
              "    }\n",
              "\n",
              "    [theme=dark] .colab-df-convert:hover {\n",
              "      background-color: #434B5C;\n",
              "      box-shadow: 0px 1px 3px 1px rgba(0, 0, 0, 0.15);\n",
              "      filter: drop-shadow(0px 1px 2px rgba(0, 0, 0, 0.3));\n",
              "      fill: #FFFFFF;\n",
              "    }\n",
              "  </style>\n",
              "\n",
              "      <script>\n",
              "        const buttonEl =\n",
              "          document.querySelector('#df-c13c8965-5aca-463f-a94f-bf7a082cd6cb button.colab-df-convert');\n",
              "        buttonEl.style.display =\n",
              "          google.colab.kernel.accessAllowed ? 'block' : 'none';\n",
              "\n",
              "        async function convertToInteractive(key) {\n",
              "          const element = document.querySelector('#df-c13c8965-5aca-463f-a94f-bf7a082cd6cb');\n",
              "          const dataTable =\n",
              "            await google.colab.kernel.invokeFunction('convertToInteractive',\n",
              "                                                     [key], {});\n",
              "          if (!dataTable) return;\n",
              "\n",
              "          const docLinkHtml = 'Like what you see? Visit the ' +\n",
              "            '<a target=\"_blank\" href=https://colab.research.google.com/notebooks/data_table.ipynb>data table notebook</a>'\n",
              "            + ' to learn more about interactive tables.';\n",
              "          element.innerHTML = '';\n",
              "          dataTable['output_type'] = 'display_data';\n",
              "          await google.colab.output.renderOutput(dataTable, element);\n",
              "          const docLink = document.createElement('div');\n",
              "          docLink.innerHTML = docLinkHtml;\n",
              "          element.appendChild(docLink);\n",
              "        }\n",
              "      </script>\n",
              "    </div>\n",
              "  </div>\n",
              "  "
            ],
            "text/plain": [
              "                                           book_name              author(s)  \\\n",
              "0  Designing Data-Intensive Applications: The Big...       Martin Kleppmann   \n",
              "1  Ace the Data Science Interview: 201 Real Inter...   Kevin Huo,Nick Singh   \n",
              "2  Fundamentals of Data Engineering: Plan and Bui...  Joe Reis,Matt Housley   \n",
              "3  Python for Data Analysis: Data Wrangling with ...           Wes McKinney   \n",
              "4  Practical Statistics for Data Scientists: 50+ ...           Peter Gedeck   \n",
              "\n",
              "                        publisher  #pages  best_seller_rank  customer_reviews  \\\n",
              "0                  O'Reilly Media     611              2598               4.8   \n",
              "1  Ace the Data Science Interview     301              6795               4.5   \n",
              "2                  O'Reilly Media     446             10052               4.7   \n",
              "3                  O'Reilly Media     579             11945               4.5   \n",
              "4                  O'Reilly Media     360             19402               4.6   \n",
              "\n",
              "   total_ratings                                                url  \\\n",
              "0           3865  https://www.amazon.com/Designing-Data-Intensiv...   \n",
              "1            818  https://www.amazon.com/Ace-Data-Science-Interv...   \n",
              "2            251  https://www.amazon.com/Fundamentals-Data-Engin...   \n",
              "3            134  https://www.amazon.com/Python-Data-Analysis-Wr...   \n",
              "4            710  https://www.amazon.com/Practical-Statistics-Da...   \n",
              "\n",
              "   paperback_price($)  \n",
              "0               32.86  \n",
              "1               36.35  \n",
              "2               43.99  \n",
              "3               38.10  \n",
              "4               38.49  "
            ]
          },
          "execution_count": 63,
          "metadata": {},
          "output_type": "execute_result"
        }
      ],
      "source": [
        "data.head()"
      ]
    },
    {
      "cell_type": "code",
      "execution_count": null,
      "metadata": {
        "colab": {
          "base_uri": "https://localhost:8080/"
        },
        "id": "S2V89frbfV3D",
        "outputId": "b37776db-3a06-4f49-db8a-3a114214bb09"
      },
      "outputs": [
        {
          "data": {
            "text/plain": [
              "book_name              0\n",
              "author(s)             26\n",
              "publisher              0\n",
              "#pages                 0\n",
              "best_seller_rank       0\n",
              "customer_reviews       0\n",
              "total_ratings          0\n",
              "url                    0\n",
              "paperback_price($)     0\n",
              "dtype: int64"
            ]
          },
          "execution_count": 64,
          "metadata": {},
          "output_type": "execute_result"
        }
      ],
      "source": [
        "data.isna().sum()"
      ]
    },
    {
      "cell_type": "code",
      "execution_count": null,
      "metadata": {
        "id": "-9Uh-tg8fV3D"
      },
      "outputs": [],
      "source": [
        "# data.loc[ data.loc[:, 'author(s)'].isna()]"
      ]
    },
    {
      "cell_type": "code",
      "execution_count": null,
      "metadata": {
        "id": "MYoScjwVlkQs"
      },
      "outputs": [],
      "source": [
        "data.dropna(axis=0, inplace=True)"
      ]
    },
    {
      "cell_type": "code",
      "execution_count": null,
      "metadata": {
        "colab": {
          "base_uri": "https://localhost:8080/"
        },
        "id": "d3s2cc-2qW3A",
        "outputId": "87ae6487-6e4d-4666-bd9b-a995612b1373"
      },
      "outputs": [
        {
          "data": {
            "text/plain": [
              "book_name             0\n",
              "author(s)             0\n",
              "publisher             0\n",
              "#pages                0\n",
              "best_seller_rank      0\n",
              "customer_reviews      0\n",
              "total_ratings         0\n",
              "url                   0\n",
              "paperback_price($)    0\n",
              "dtype: int64"
            ]
          },
          "execution_count": 67,
          "metadata": {},
          "output_type": "execute_result"
        }
      ],
      "source": [
        "data.isna().sum()"
      ]
    },
    {
      "cell_type": "code",
      "execution_count": null,
      "metadata": {
        "colab": {
          "base_uri": "https://localhost:8080/"
        },
        "id": "rxRYQ92LrVCR",
        "outputId": "f8b6b379-41a6-49cb-8553-c4e1b8f3b101"
      },
      "outputs": [
        {
          "name": "stdout",
          "output_type": "stream",
          "text": [
            "<class 'pandas.core.frame.DataFrame'>\n",
            "Int64Index: 1324 entries, 0 to 1349\n",
            "Data columns (total 9 columns):\n",
            " #   Column              Non-Null Count  Dtype  \n",
            "---  ------              --------------  -----  \n",
            " 0   book_name           1324 non-null   object \n",
            " 1   author(s)           1324 non-null   object \n",
            " 2   publisher           1324 non-null   object \n",
            " 3   #pages              1324 non-null   int64  \n",
            " 4   best_seller_rank    1324 non-null   int64  \n",
            " 5   customer_reviews    1324 non-null   float64\n",
            " 6   total_ratings       1324 non-null   int64  \n",
            " 7   url                 1324 non-null   object \n",
            " 8   paperback_price($)  1324 non-null   float64\n",
            "dtypes: float64(2), int64(3), object(4)\n",
            "memory usage: 103.4+ KB\n"
          ]
        }
      ],
      "source": [
        "data.info()"
      ]
    },
    {
      "cell_type": "code",
      "execution_count": null,
      "metadata": {
        "id": "OBjPuT8_t_LP"
      },
      "outputs": [],
      "source": [
        "data.to_csv('amazon_data_science_books_processed.csv', index=False)"
      ]
    },
    {
      "cell_type": "code",
      "execution_count": null,
      "metadata": {
        "colab": {
          "base_uri": "https://localhost:8080/"
        },
        "id": "JrOjsG2x2V9N",
        "outputId": "58707587-d960-4b31-8d3e-bd2e8880e23a"
      },
      "outputs": [
        {
          "name": "stdout",
          "output_type": "stream",
          "text": [
            "amazon_data_science_books.csv  amazon_data_science_books_processed.csv\n"
          ]
        }
      ],
      "source": [
        "!ls"
      ]
    },
    {
      "cell_type": "code",
      "execution_count": null,
      "metadata": {
        "id": "Y66R-vc52W3y"
      },
      "outputs": [],
      "source": [
        "data = pd.read_csv('amazon_data_science_books_processed.csv')"
      ]
    },
    {
      "cell_type": "code",
      "execution_count": null,
      "metadata": {
        "colab": {
          "base_uri": "https://localhost:8080/",
          "height": 371
        },
        "id": "76BZ18ZO2kQD",
        "outputId": "87bf7f1a-c2c3-483a-c81d-ef1e8d9159da"
      },
      "outputs": [
        {
          "data": {
            "text/html": [
              "\n",
              "  <div id=\"df-4c921c0b-0ae0-4e97-b3af-b6dc80d57ce2\">\n",
              "    <div class=\"colab-df-container\">\n",
              "      <div>\n",
              "<style scoped>\n",
              "    .dataframe tbody tr th:only-of-type {\n",
              "        vertical-align: middle;\n",
              "    }\n",
              "\n",
              "    .dataframe tbody tr th {\n",
              "        vertical-align: top;\n",
              "    }\n",
              "\n",
              "    .dataframe thead th {\n",
              "        text-align: right;\n",
              "    }\n",
              "</style>\n",
              "<table border=\"1\" class=\"dataframe\">\n",
              "  <thead>\n",
              "    <tr style=\"text-align: right;\">\n",
              "      <th></th>\n",
              "      <th>book_name</th>\n",
              "      <th>author(s)</th>\n",
              "      <th>publisher</th>\n",
              "      <th>#pages</th>\n",
              "      <th>best_seller_rank</th>\n",
              "      <th>customer_reviews</th>\n",
              "      <th>total_ratings</th>\n",
              "      <th>url</th>\n",
              "      <th>paperback_price($)</th>\n",
              "    </tr>\n",
              "  </thead>\n",
              "  <tbody>\n",
              "    <tr>\n",
              "      <th>0</th>\n",
              "      <td>Designing Data-Intensive Applications: The Big...</td>\n",
              "      <td>Martin Kleppmann</td>\n",
              "      <td>O'Reilly Media</td>\n",
              "      <td>611</td>\n",
              "      <td>2598</td>\n",
              "      <td>4.8</td>\n",
              "      <td>3865</td>\n",
              "      <td>https://www.amazon.com/Designing-Data-Intensiv...</td>\n",
              "      <td>32.86</td>\n",
              "    </tr>\n",
              "    <tr>\n",
              "      <th>1</th>\n",
              "      <td>Ace the Data Science Interview: 201 Real Inter...</td>\n",
              "      <td>Kevin Huo,Nick Singh</td>\n",
              "      <td>Ace the Data Science Interview</td>\n",
              "      <td>301</td>\n",
              "      <td>6795</td>\n",
              "      <td>4.5</td>\n",
              "      <td>818</td>\n",
              "      <td>https://www.amazon.com/Ace-Data-Science-Interv...</td>\n",
              "      <td>36.35</td>\n",
              "    </tr>\n",
              "    <tr>\n",
              "      <th>2</th>\n",
              "      <td>Fundamentals of Data Engineering: Plan and Bui...</td>\n",
              "      <td>Joe Reis,Matt Housley</td>\n",
              "      <td>O'Reilly Media</td>\n",
              "      <td>446</td>\n",
              "      <td>10052</td>\n",
              "      <td>4.7</td>\n",
              "      <td>251</td>\n",
              "      <td>https://www.amazon.com/Fundamentals-Data-Engin...</td>\n",
              "      <td>43.99</td>\n",
              "    </tr>\n",
              "    <tr>\n",
              "      <th>3</th>\n",
              "      <td>Python for Data Analysis: Data Wrangling with ...</td>\n",
              "      <td>Wes McKinney</td>\n",
              "      <td>O'Reilly Media</td>\n",
              "      <td>579</td>\n",
              "      <td>11945</td>\n",
              "      <td>4.5</td>\n",
              "      <td>134</td>\n",
              "      <td>https://www.amazon.com/Python-Data-Analysis-Wr...</td>\n",
              "      <td>38.10</td>\n",
              "    </tr>\n",
              "    <tr>\n",
              "      <th>4</th>\n",
              "      <td>Practical Statistics for Data Scientists: 50+ ...</td>\n",
              "      <td>Peter Gedeck</td>\n",
              "      <td>O'Reilly Media</td>\n",
              "      <td>360</td>\n",
              "      <td>19402</td>\n",
              "      <td>4.6</td>\n",
              "      <td>710</td>\n",
              "      <td>https://www.amazon.com/Practical-Statistics-Da...</td>\n",
              "      <td>38.49</td>\n",
              "    </tr>\n",
              "  </tbody>\n",
              "</table>\n",
              "</div>\n",
              "      <button class=\"colab-df-convert\" onclick=\"convertToInteractive('df-4c921c0b-0ae0-4e97-b3af-b6dc80d57ce2')\"\n",
              "              title=\"Convert this dataframe to an interactive table.\"\n",
              "              style=\"display:none;\">\n",
              "        \n",
              "  <svg xmlns=\"http://www.w3.org/2000/svg\" height=\"24px\"viewBox=\"0 0 24 24\"\n",
              "       width=\"24px\">\n",
              "    <path d=\"M0 0h24v24H0V0z\" fill=\"none\"/>\n",
              "    <path d=\"M18.56 5.44l.94 2.06.94-2.06 2.06-.94-2.06-.94-.94-2.06-.94 2.06-2.06.94zm-11 1L8.5 8.5l.94-2.06 2.06-.94-2.06-.94L8.5 2.5l-.94 2.06-2.06.94zm10 10l.94 2.06.94-2.06 2.06-.94-2.06-.94-.94-2.06-.94 2.06-2.06.94z\"/><path d=\"M17.41 7.96l-1.37-1.37c-.4-.4-.92-.59-1.43-.59-.52 0-1.04.2-1.43.59L10.3 9.45l-7.72 7.72c-.78.78-.78 2.05 0 2.83L4 21.41c.39.39.9.59 1.41.59.51 0 1.02-.2 1.41-.59l7.78-7.78 2.81-2.81c.8-.78.8-2.07 0-2.86zM5.41 20L4 18.59l7.72-7.72 1.47 1.35L5.41 20z\"/>\n",
              "  </svg>\n",
              "      </button>\n",
              "      \n",
              "  <style>\n",
              "    .colab-df-container {\n",
              "      display:flex;\n",
              "      flex-wrap:wrap;\n",
              "      gap: 12px;\n",
              "    }\n",
              "\n",
              "    .colab-df-convert {\n",
              "      background-color: #E8F0FE;\n",
              "      border: none;\n",
              "      border-radius: 50%;\n",
              "      cursor: pointer;\n",
              "      display: none;\n",
              "      fill: #1967D2;\n",
              "      height: 32px;\n",
              "      padding: 0 0 0 0;\n",
              "      width: 32px;\n",
              "    }\n",
              "\n",
              "    .colab-df-convert:hover {\n",
              "      background-color: #E2EBFA;\n",
              "      box-shadow: 0px 1px 2px rgba(60, 64, 67, 0.3), 0px 1px 3px 1px rgba(60, 64, 67, 0.15);\n",
              "      fill: #174EA6;\n",
              "    }\n",
              "\n",
              "    [theme=dark] .colab-df-convert {\n",
              "      background-color: #3B4455;\n",
              "      fill: #D2E3FC;\n",
              "    }\n",
              "\n",
              "    [theme=dark] .colab-df-convert:hover {\n",
              "      background-color: #434B5C;\n",
              "      box-shadow: 0px 1px 3px 1px rgba(0, 0, 0, 0.15);\n",
              "      filter: drop-shadow(0px 1px 2px rgba(0, 0, 0, 0.3));\n",
              "      fill: #FFFFFF;\n",
              "    }\n",
              "  </style>\n",
              "\n",
              "      <script>\n",
              "        const buttonEl =\n",
              "          document.querySelector('#df-4c921c0b-0ae0-4e97-b3af-b6dc80d57ce2 button.colab-df-convert');\n",
              "        buttonEl.style.display =\n",
              "          google.colab.kernel.accessAllowed ? 'block' : 'none';\n",
              "\n",
              "        async function convertToInteractive(key) {\n",
              "          const element = document.querySelector('#df-4c921c0b-0ae0-4e97-b3af-b6dc80d57ce2');\n",
              "          const dataTable =\n",
              "            await google.colab.kernel.invokeFunction('convertToInteractive',\n",
              "                                                     [key], {});\n",
              "          if (!dataTable) return;\n",
              "\n",
              "          const docLinkHtml = 'Like what you see? Visit the ' +\n",
              "            '<a target=\"_blank\" href=https://colab.research.google.com/notebooks/data_table.ipynb>data table notebook</a>'\n",
              "            + ' to learn more about interactive tables.';\n",
              "          element.innerHTML = '';\n",
              "          dataTable['output_type'] = 'display_data';\n",
              "          await google.colab.output.renderOutput(dataTable, element);\n",
              "          const docLink = document.createElement('div');\n",
              "          docLink.innerHTML = docLinkHtml;\n",
              "          element.appendChild(docLink);\n",
              "        }\n",
              "      </script>\n",
              "    </div>\n",
              "  </div>\n",
              "  "
            ],
            "text/plain": [
              "                                           book_name              author(s)  \\\n",
              "0  Designing Data-Intensive Applications: The Big...       Martin Kleppmann   \n",
              "1  Ace the Data Science Interview: 201 Real Inter...   Kevin Huo,Nick Singh   \n",
              "2  Fundamentals of Data Engineering: Plan and Bui...  Joe Reis,Matt Housley   \n",
              "3  Python for Data Analysis: Data Wrangling with ...           Wes McKinney   \n",
              "4  Practical Statistics for Data Scientists: 50+ ...           Peter Gedeck   \n",
              "\n",
              "                        publisher  #pages  best_seller_rank  customer_reviews  \\\n",
              "0                  O'Reilly Media     611              2598               4.8   \n",
              "1  Ace the Data Science Interview     301              6795               4.5   \n",
              "2                  O'Reilly Media     446             10052               4.7   \n",
              "3                  O'Reilly Media     579             11945               4.5   \n",
              "4                  O'Reilly Media     360             19402               4.6   \n",
              "\n",
              "   total_ratings                                                url  \\\n",
              "0           3865  https://www.amazon.com/Designing-Data-Intensiv...   \n",
              "1            818  https://www.amazon.com/Ace-Data-Science-Interv...   \n",
              "2            251  https://www.amazon.com/Fundamentals-Data-Engin...   \n",
              "3            134  https://www.amazon.com/Python-Data-Analysis-Wr...   \n",
              "4            710  https://www.amazon.com/Practical-Statistics-Da...   \n",
              "\n",
              "   paperback_price($)  \n",
              "0               32.86  \n",
              "1               36.35  \n",
              "2               43.99  \n",
              "3               38.10  \n",
              "4               38.49  "
            ]
          },
          "execution_count": 74,
          "metadata": {},
          "output_type": "execute_result"
        }
      ],
      "source": [
        "data.head()"
      ]
    },
    {
      "cell_type": "code",
      "execution_count": null,
      "metadata": {
        "colab": {
          "base_uri": "https://localhost:8080/"
        },
        "id": "EfTcu9WY2lpM",
        "outputId": "1a3e739a-0a55-466a-a652-188f69ab205d"
      },
      "outputs": [
        {
          "name": "stdout",
          "output_type": "stream",
          "text": [
            "<class 'pandas.core.frame.DataFrame'>\n",
            "RangeIndex: 1324 entries, 0 to 1323\n",
            "Data columns (total 9 columns):\n",
            " #   Column              Non-Null Count  Dtype  \n",
            "---  ------              --------------  -----  \n",
            " 0   book_name           1324 non-null   object \n",
            " 1   author(s)           1324 non-null   object \n",
            " 2   publisher           1324 non-null   object \n",
            " 3   #pages              1324 non-null   int64  \n",
            " 4   best_seller_rank    1324 non-null   int64  \n",
            " 5   customer_reviews    1324 non-null   float64\n",
            " 6   total_ratings       1324 non-null   int64  \n",
            " 7   url                 1324 non-null   object \n",
            " 8   paperback_price($)  1324 non-null   float64\n",
            "dtypes: float64(2), int64(3), object(4)\n",
            "memory usage: 93.2+ KB\n"
          ]
        }
      ],
      "source": [
        "data.info()"
      ]
    },
    {
      "cell_type": "code",
      "execution_count": null,
      "metadata": {
        "colab": {
          "base_uri": "https://localhost:8080/"
        },
        "id": "7yQCzYtV2o5t",
        "outputId": "a5f9eee5-50be-4d68-a36a-37cf96678b98"
      },
      "outputs": [
        {
          "data": {
            "text/plain": [
              "3806.19"
            ]
          },
          "execution_count": 76,
          "metadata": {},
          "output_type": "execute_result"
        }
      ],
      "source": [
        "data['paperback_price($)'].max()"
      ]
    },
    {
      "cell_type": "code",
      "execution_count": null,
      "metadata": {
        "id": "3DUq6Gc1277z"
      },
      "outputs": [],
      "source": []
    }
  ],
  "metadata": {
    "colab": {
      "provenance": []
    },
    "kernelspec": {
      "display_name": "venv",
      "language": "python",
      "name": "python3"
    },
    "language_info": {
      "codemirror_mode": {
        "name": "ipython",
        "version": 3
      },
      "file_extension": ".py",
      "mimetype": "text/x-python",
      "name": "python",
      "nbconvert_exporter": "python",
      "pygments_lexer": "ipython3",
      "version": "3.8.5"
    },
    "orig_nbformat": 4
  },
  "nbformat": 4,
  "nbformat_minor": 0
}
